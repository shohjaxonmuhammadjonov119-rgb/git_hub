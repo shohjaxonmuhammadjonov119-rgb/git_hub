{
  "cells": [
    {
      "cell_type": "markdown",
      "metadata": {
        "id": "view-in-github",
        "colab_type": "text"
      },
      "source": [
        "<a href=\"https://colab.research.google.com/github/shohjaxonmuhammadjonov119-rgb/git_hub/blob/main/0_numpy_intro.ipynb\" target=\"_parent\"><img src=\"https://colab.research.google.com/assets/colab-badge.svg\" alt=\"Open In Colab\"/></a>"
      ]
    },
    {
      "cell_type": "markdown",
      "metadata": {
        "id": "-N5P-xCWvk3V"
      },
      "source": [
        "![Imgur](https://i.imgur.com/5pXzCIu.png)"
      ]
    },
    {
      "cell_type": "markdown",
      "metadata": {
        "id": "HBvyt9sFvpiv"
      },
      "source": [
        "# Data Science va Sun'iy Intellekt Praktikum\n",
        "\n",
        "## Ma'lumotlar tahlili. (NumPy kutubxonasi)"
      ]
    },
    {
      "cell_type": "markdown",
      "metadata": {
        "id": "hrKdSszlvt-I"
      },
      "source": [
        "### NumPy kutubxonasini chaqirib olish"
      ]
    },
    {
      "cell_type": "code",
      "execution_count": null,
      "metadata": {
        "id": "DgrHlI8b-qIf"
      },
      "outputs": [],
      "source": [
        "import numpy as np"
      ]
    },
    {
      "cell_type": "markdown",
      "metadata": {
        "id": "6-8b-nUuv_d0"
      },
      "source": [
        "### Python list bilan NumPy kutubxonasidagi massivlar (arraylar) hisoblashlari orasidagi farqni ko'ramiz."
      ]
    },
    {
      "cell_type": "code",
      "execution_count": null,
      "metadata": {
        "id": "s6H6y89X3JC1"
      },
      "outputs": [],
      "source": [
        "my_list = list(range(100000)) # python list 0~99999 -->Normal\n",
        "my_array = np.array(range(100000)) # numpy array(massiv) 0~99999 --> Vektorlashgan"
      ]
    },
    {
      "cell_type": "code",
      "execution_count": null,
      "metadata": {
        "colab": {
          "base_uri": "https://localhost:8080/"
        },
        "id": "942vkLi3BXa3",
        "outputId": "8cc5f00f-95a2-475d-8f9c-b492c97e4734"
      },
      "outputs": [
        {
          "name": "stdout",
          "output_type": "stream",
          "text": [
            "CPU times: user 82.4 ms, sys: 20.5 ms, total: 103 ms\n",
            "Wall time: 105 ms\n"
          ]
        }
      ],
      "source": [
        "%time for _ in range(10): [x*2 for x in my_list] # Normal"
      ]
    },
    {
      "cell_type": "code",
      "execution_count": null,
      "metadata": {
        "colab": {
          "base_uri": "https://localhost:8080/"
        },
        "id": "_WjBPHE2Gy00",
        "outputId": "8d680a05-bfa3-4233-e71f-fec4eadc4e80"
      },
      "outputs": [
        {
          "name": "stdout",
          "output_type": "stream",
          "text": [
            "CPU times: user 3.09 ms, sys: 0 ns, total: 3.09 ms\n",
            "Wall time: 3.18 ms\n"
          ]
        }
      ],
      "source": [
        "%time for _ in range(10): my_array*2 # Vektorlashgan"
      ]
    },
    {
      "cell_type": "code",
      "execution_count": null,
      "metadata": {
        "colab": {
          "base_uri": "https://localhost:8080/"
        },
        "id": "jBYf5dBVHY-M",
        "outputId": "957fa787-d13b-4794-98ce-a73595f5d102"
      },
      "outputs": [
        {
          "data": {
            "text/plain": [
              "33.439490445859875"
            ]
          },
          "execution_count": 40,
          "metadata": {},
          "output_type": "execute_result"
        }
      ],
      "source": [
        "105/3.14"
      ]
    }
  ],
  "metadata": {
    "colab": {
      "name": "#0_numpy_intro.ipynb",
      "provenance": [],
      "include_colab_link": true
    },
    "language_info": {
      "name": "python"
    }
  },
  "nbformat": 4,
  "nbformat_minor": 0
}